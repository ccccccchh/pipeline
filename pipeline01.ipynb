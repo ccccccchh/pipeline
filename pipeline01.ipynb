{
 "cells": [
  {
   "metadata": {
    "ExecuteTime": {
     "end_time": "2025-07-02T03:07:07.047954Z",
     "start_time": "2025-07-02T03:07:06.537777Z"
    }
   },
   "cell_type": "code",
   "source": [
    "import transformers\n",
    "from transformers import pipeline, AutoModelForSequenceClassification, AutoTokenizer\n",
    "\n",
    "# 此路径为模型的存放路径，根据你的模型存放位置来编辑\n",
    "model_path = r\"D:\\apply\\python\\project\\pipeline\\model\\roberta-base-finetuned-dianping-chinese\"\n",
    "\n",
    "model = AutoModelForSequenceClassification.from_pretrained(model_path)\n",
    "tokenizer = AutoTokenizer.from_pretrained(model_path)\n",
    "\n",
    "pipe = pipeline(\"text-classification\",model=model_path,tokenizer=tokenizer,device=0)"
   ],
   "id": "36355cb7e480c2cd",
   "outputs": [],
   "execution_count": 18
  },
  {
   "metadata": {
    "ExecuteTime": {
     "end_time": "2025-07-02T03:07:08.381547Z",
     "start_time": "2025-07-02T03:07:08.366999Z"
    }
   },
   "cell_type": "code",
   "source": "pipe(\"今天心情很舒畅\")",
   "id": "d212d6f0540fb3b1",
   "outputs": [
    {
     "data": {
      "text/plain": [
       "[{'label': 'positive (stars 4 and 5)', 'score': 0.8886542320251465}]"
      ]
     },
     "execution_count": 19,
     "metadata": {},
     "output_type": "execute_result"
    }
   ],
   "execution_count": 19
  },
  {
   "metadata": {},
   "cell_type": "code",
   "outputs": [],
   "execution_count": null,
   "source": "",
   "id": "f34acd49814ed92f"
  }
 ],
 "metadata": {
  "kernelspec": {
   "display_name": "Python 3",
   "language": "python",
   "name": "python3"
  },
  "language_info": {
   "codemirror_mode": {
    "name": "ipython",
    "version": 2
   },
   "file_extension": ".py",
   "mimetype": "text/x-python",
   "name": "python",
   "nbconvert_exporter": "python",
   "pygments_lexer": "ipython2",
   "version": "2.7.6"
  }
 },
 "nbformat": 4,
 "nbformat_minor": 5
}
