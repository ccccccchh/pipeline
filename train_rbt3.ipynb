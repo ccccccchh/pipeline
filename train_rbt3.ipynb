{
 "cells": [
  {
   "metadata": {},
   "cell_type": "markdown",
   "source": "# step1 导入依赖",
   "id": "77963df470324ce0"
  },
  {
   "metadata": {
    "ExecuteTime": {
     "end_time": "2025-07-04T06:18:52.478210Z",
     "start_time": "2025-07-04T06:18:52.461931Z"
    }
   },
   "cell_type": "code",
   "source": [
    "from pickletools import optimize\n",
    "\n",
    "from torch.utils.data.datapipes.map.callable import default_fn\n",
    "from transformers import AutoTokenizer,AutoModelForSequenceClassification"
   ],
   "id": "37529340a49f3925",
   "outputs": [],
   "execution_count": 3
  },
  {
   "metadata": {},
   "cell_type": "markdown",
   "source": "# step2 数据清洗",
   "id": "698320f98eb12eb6"
  },
  {
   "metadata": {
    "ExecuteTime": {
     "end_time": "2025-07-04T06:19:04.384857Z",
     "start_time": "2025-07-04T06:19:04.087503Z"
    }
   },
   "cell_type": "code",
   "source": [
    "import pandas as pd\n",
    "\n",
    "# 指定数据集\n",
    "data = pd.read_csv(\"./data/ChnSentiCorp_htl_all.csv\")\n",
    "\n",
    "# 删除空数据\n",
    "data = data.dropna()"
   ],
   "id": "ab8784c0989221d4",
   "outputs": [],
   "execution_count": 6
  },
  {
   "metadata": {},
   "cell_type": "markdown",
   "source": "# step3 创建Dataset",
   "id": "427ac1632b683157"
  },
  {
   "metadata": {
    "ExecuteTime": {
     "end_time": "2025-07-04T06:19:06.241292Z",
     "start_time": "2025-07-04T06:19:06.230987Z"
    }
   },
   "cell_type": "code",
   "source": [
    "from torch.utils.data import Dataset\n",
    "\n",
    "# 创建一个用于读取与清晰数据的类\n",
    "class MyDataset(Dataset):\n",
    "    \n",
    "    def __init__(self) -> None:\n",
    "        super().__init__()\n",
    "        self.data = pd.read_csv(\"./data/ChnSentiCorp_htl_all.csv\")\n",
    "        self.data = self.data.dropna()\n",
    "        \n",
    "    def __getitem__(self, index):\n",
    "        return self.data.iloc[index][\"review\"], self.data.iloc[index][\"label\"]\n",
    "    \n",
    "    def __len__(self):\n",
    "        return len(self.data)"
   ],
   "id": "ebb34ed64715de33",
   "outputs": [],
   "execution_count": 7
  },
  {
   "metadata": {
    "ExecuteTime": {
     "end_time": "2025-07-04T06:19:07.719934Z",
     "start_time": "2025-07-04T06:19:07.680539Z"
    }
   },
   "cell_type": "code",
   "source": [
    "dataset = MyDataset()\n",
    "for i in range(5):\n",
    "    print(dataset[i])"
   ],
   "id": "42e2064d5aa69818",
   "outputs": [
    {
     "name": "stdout",
     "output_type": "stream",
     "text": [
      "('距离川沙公路较近,但是公交指示不对,如果是\"蔡陆线\"的话,会非常麻烦.建议用别的路线.房间较为简单.', 1)\n",
      "('商务大床房，房间很大，床有2M宽，整体感觉经济实惠不错!', 1)\n",
      "('早餐太差，无论去多少人，那边也不加食品的。酒店应该重视一下这个问题了。房间本身很好。', 1)\n",
      "('宾馆在小街道上，不大好找，但还好北京热心同胞很多~宾馆设施跟介绍的差不多，房间很小，确实挺小，但加上低价位因素，还是无超所值的；环境不错，就在小胡同内，安静整洁，暖气好足-_-||。。。呵还有一大优势就是从宾馆出发，步行不到十分钟就可以到梅兰芳故居等等，京味小胡同，北海距离好近呢。总之，不错。推荐给节约消费的自助游朋友~比较划算，附近特色小吃很多~', 1)\n",
      "('CBD中心,周围没什么店铺,说5星有点勉强.不知道为什么卫生间没有电吹风', 1)\n"
     ]
    }
   ],
   "execution_count": 8
  },
  {
   "metadata": {},
   "cell_type": "markdown",
   "source": "# step5 创建Dataloader",
   "id": "ff5fe05bc0dbe30c"
  },
  {
   "metadata": {
    "ExecuteTime": {
     "end_time": "2025-07-04T06:19:09.832930Z",
     "start_time": "2025-07-04T06:19:09.754491Z"
    }
   },
   "cell_type": "code",
   "source": [
    "import torch\n",
    "tokenizer = AutoTokenizer.from_pretrained('./model/rbt3')\n",
    "\n",
    "def collate_func(batch):\n",
    "    texts,labels = [], []\n",
    "    for item in batch:\n",
    "        texts.append(item[0])\n",
    "        labels.append(item[1])\n",
    "    inputs = tokenizer(texts, max_length=128, padding=\"max_length\", truncation=True, return_tensors=\"pt\")\n",
    "    inputs[\"labels\"] = torch.tensor(labels)\n",
    "    return inputs"
   ],
   "id": "40f37379d3bb4761",
   "outputs": [],
   "execution_count": 9
  },
  {
   "metadata": {
    "ExecuteTime": {
     "end_time": "2025-07-04T06:19:11.686608Z",
     "start_time": "2025-07-04T06:19:11.665575Z"
    }
   },
   "cell_type": "code",
   "source": [
    "from torch.utils.data import random_split\n",
    "\n",
    "train_set, valid_set = random_split(dataset, lengths=[0.9, 0.1])\n",
    "len(train_set), len(valid_set)"
   ],
   "id": "edac0fdc1760ca69",
   "outputs": [
    {
     "data": {
      "text/plain": [
       "(6989, 776)"
      ]
     },
     "execution_count": 10,
     "metadata": {},
     "output_type": "execute_result"
    }
   ],
   "execution_count": 10
  },
  {
   "metadata": {
    "ExecuteTime": {
     "end_time": "2025-07-04T06:19:13.650168Z",
     "start_time": "2025-07-04T06:19:13.641278Z"
    }
   },
   "cell_type": "code",
   "source": [
    "for i in range(10):\n",
    "    print(train_set[i], valid_set[i])"
   ],
   "id": "de03965fd6b06bbe",
   "outputs": [
    {
     "name": "stdout",
     "output_type": "stream",
     "text": [
      "('免费接机用的轿车。宽带上网只是一个摆设，根本不能上网，叫了几次前台也没有解决，最后只能用电话线拨号。我住的客房面对公路，隔音效果不好，早上卡车经过很吵。晚上有小姐骚扰电话。对面有韩国旅行团入住，小姐进出频繁。听朋友说那里的小姐比较宰客，谈好的价钱只是台费，最后还会另收天价小费，不给的话，会有鸡头进来跟你谈，挺恐怖的，最好不要尝试。', 0) ('又涨价了！价格极端不稳定，不在携程订了，直接去前台。', 1)\n",
      "('1、总体感觉有些旧，地毯上污迹比较多。2、服务等还可以。3、房间总带有一些烟味，不喜欢。', 1) ('很实惠的酒店~~这次住的是经济房，没有独立的卫生间，但是房间很干净，没有提供一次性的洗濑用品，需要自带，很适合背包一族。位置也很好，离火车站很近，在二环内，在北京算是很便宜的酒店了~~~服务一般，不过主要是旅游，所以只要住的干净也没关系~~~总体还是不错的！', 1)\n",
      "('服务很一般房间还可以条件比较一般价格没竞争力', 0) ('大堂竟然没有电源插孔可以充电，服务还算可以，但是服务的意识还是有点欠缺。。。', 1)\n",
      "('没什么啦,如果你要感受大上海繁华时尚的一面,这里无疑是最佳的了。信价比还可以吧，毕竟这么黄金的地段而且交通超级方便，紧邻一号地铁的出口，几乎不费什么力就可以到达宾馆。我住过好几次了，不过打折下来568元的价位还是有点“吃血”的，所以也只敢在荷包比较鼓的时候，呵呵，比如发年终奖的这会儿，奢侈一回。宾馆内部设施干净、简洁，是我喜欢的那种，不过公共部位的空间狭小了一些，有“螺蛳壳里做道场”的感觉。毕竟，寸土寸金的地儿，可以理解。推荐如果你是SHOPPING狂人的话，这里很合适，左右前后都是店，还整天搞活动，你可以逛累了，回宾馆歇会儿再杀出去，哈哈！', 1) ('已经住过多次了，还是一个字：好！服务好，环境好！服务人性化，房间虽然小些，但对我足够了。一点儿遗憾是没有免费的矿泉水。早餐不错，很丰盛尤其是有一些小笼，像南方的早茶了。对于3星级有此早餐很好了。携程的价格还是稍差一些，我以其他公司协议价住过要更便宜些。总的讲：下次还住，还推荐其它同事住。', 1)\n",
      "('房间环境不错，前台礼貌服务也很到位，好评！', 1) ('很不错的酒店，环境优美，设施也很新。可以看到东湖，周围交通也比较方便。要注意的是其实离武大本部还是挺远的。', 1)\n",
      "('第一次住金海棠，完全没有想到在市区里会有这样花园式的酒店，处处绿萌盈盈。5号楼在最里面，应该是房间最好的。非常安静，房间窗外就是山林，空气很清新。进屋时发现窗子已经打开通风，所以屋内的空气是一般酒店里难得的清新。地理位置离乐山在佛也不远。不足之处是没有健身房。除此以外，金海棠都很好，强烈推荐！', 1) ('出行比较方便，房间也很安静，住徐家汇就住宛平。', 1)\n",
      "('其实只是一般,但前一天住到对面的长百合家欢假日垃圾酒店.对比下,就如同天堂与地狱的分别', 1) ('地点实在太偏僻，设施有点破旧，浴帘霉成那样竟然还在使用。想要借用电吹风，可服务员说没有，原来其他房间都有安装电吹风，就是我住的标房B没有。这样最起码的服务都没有，还不如人家街头小旅馆！补充点评2007年4月16日：前台服务实在不怎么样，我进酒店的时候一大群前台服务员不知道在讨论什么，愣是没人理我。再说那个早餐，实在难以下咽，路边的早点肯定比它好吃。', 0)\n",
      "('优点：房间硬件不错，崭新，现代；虽然房子本身有年头了，但老房子层高很高，宽敞。缺点：价格其实小贵；房间略微拥挤；宽带收费10元且网线需主动索取；不含早餐；接机OK但是不送，虽然看到客人有不少行李。参考：酒店对于常住客人标间100元，标间直接入住价格320元，我们晚上入住时剩余一个套间打折350元。机场附近的住宿至少4家，如果你想要找更好的折扣，在机场出港等待提取行李的时候，就有好几个机场附近的酒店/招待所的联络柜台，最便宜的机场招待所只要几十元。', 1) ('对的起价格。还有就是安静。就是大床竟然是二张小床拼的。让人郁闷。就是看他安静。所以我每次来还是住这了。', 1)\n",
      "('大厅雄伟,但前台和房间太小、(走廊太长)房间分布太散，找同伴很累。如果能将宾馆分为2个馆,前台也分开,应该会有所改善。另外,与宾馆无关,长春出租车司机太坏了,表面热情背后狠斩,每次出差去都会遇到不愉快,投诉后也没有下文。这次从火车站去省宾馆只有6元的路程,结果被兜拉了45分钟。太损害长春形象了!今后如果没有重要的商务活动,我个人是绝不会再去长春的。希望长春市政府机关能尽快地严厉地进行整顿!!!', 0) ('很有趣的酒店,设施什么的都还好了,但是早上我还在睡觉,居然有人拿钥匙开了门就进来了,吓了我一跳,减分不少...', 0)\n",
      "('房间不错，早餐也不错，就是上网不方便，自己设置了半天都不能上，叫服务员来看看，她只给了张IP地址的信息，还是上不了，折腾半天结果发现酒店把我房间里的网络线接错了，所以我才上不了！酒店在城东区，距离新长途站挺近，但是离市区尤其是火车站比较远――不过济源这地方火车也少！补充点评2007年6月14日：一进门就看到了那本“臭名昭著”的人体艺术，还好，密封封装得好好的……', 1) ('我在9月19日入住的，本来在携程网上预定了3天，但是酒店的前台在我入住的时候，都没有问我要住几天就开了一个一天的票给我。当时真是非常的生气。也没有计较，就住进去了，22日离开的。结果回来携程通知我我只完成了1天的入住，只给我1天的积分。郁闷！入住当晚，酒店就进了一个团队，打麻将打倒3点多钟，吵得难以入睡。而且酒店的位置在张家界森林公园，游览武陵源风景区不是很方便。', 0)\n"
     ]
    }
   ],
   "execution_count": 11
  },
  {
   "metadata": {
    "ExecuteTime": {
     "end_time": "2025-07-04T06:19:15.428104Z",
     "start_time": "2025-07-04T06:19:15.424073Z"
    }
   },
   "cell_type": "code",
   "source": [
    "from torch.utils.data import DataLoader\n",
    "\n",
    "train_loader = DataLoader(dataset=train_set, batch_size=32, shuffle=True, collate_fn=collate_func)\n",
    "valid_loader = DataLoader(dataset=valid_set, batch_size=64, shuffle=False, collate_fn=collate_func)"
   ],
   "id": "35e3b75ce6b07351",
   "outputs": [],
   "execution_count": 12
  },
  {
   "metadata": {
    "ExecuteTime": {
     "end_time": "2025-07-04T06:19:17.178032Z",
     "start_time": "2025-07-04T06:19:17.161293Z"
    }
   },
   "cell_type": "code",
   "source": "next(enumerate(train_loader))[1]",
   "id": "3768ebabc0eb5196",
   "outputs": [
    {
     "data": {
      "text/plain": [
       "{'input_ids': tensor([[ 101, 1962, 6496,  ...,    0,    0,    0],\n",
       "        [ 101, 6820, 1377,  ...,    0,    0,    0],\n",
       "        [ 101, 2697, 6230,  ..., 3717, 8024,  102],\n",
       "        ...,\n",
       "        [ 101, 2595,  817,  ...,    0,    0,    0],\n",
       "        [ 101,  671, 1368,  ...,    0,    0,    0],\n",
       "        [ 101, 6983, 2421,  ...,    0,    0,    0]]), 'token_type_ids': tensor([[0, 0, 0,  ..., 0, 0, 0],\n",
       "        [0, 0, 0,  ..., 0, 0, 0],\n",
       "        [0, 0, 0,  ..., 0, 0, 0],\n",
       "        ...,\n",
       "        [0, 0, 0,  ..., 0, 0, 0],\n",
       "        [0, 0, 0,  ..., 0, 0, 0],\n",
       "        [0, 0, 0,  ..., 0, 0, 0]]), 'attention_mask': tensor([[1, 1, 1,  ..., 0, 0, 0],\n",
       "        [1, 1, 1,  ..., 0, 0, 0],\n",
       "        [1, 1, 1,  ..., 1, 1, 1],\n",
       "        ...,\n",
       "        [1, 1, 1,  ..., 0, 0, 0],\n",
       "        [1, 1, 1,  ..., 0, 0, 0],\n",
       "        [1, 1, 1,  ..., 0, 0, 0]]), 'labels': tensor([1, 1, 0, 1, 1, 1, 1, 1, 0, 0, 1, 0, 0, 1, 1, 1, 0, 1, 0, 0, 0, 1, 1, 0,\n",
       "        1, 1, 0, 1, 1, 1, 0, 0])}"
      ]
     },
     "execution_count": 13,
     "metadata": {},
     "output_type": "execute_result"
    }
   ],
   "execution_count": 13
  },
  {
   "metadata": {},
   "cell_type": "markdown",
   "source": "# 创建模型以及优化器",
   "id": "4bb5649f1ee331bb"
  },
  {
   "metadata": {
    "ExecuteTime": {
     "end_time": "2025-07-04T06:19:22.965353Z",
     "start_time": "2025-07-04T06:19:22.886663Z"
    }
   },
   "cell_type": "code",
   "source": [
    "from torch.optim import Adam\n",
    "model = AutoModelForSequenceClassification.from_pretrained('./model/rbt3')\n",
    "if torch.cuda.is_available():\n",
    "    model = model.cuda()"
   ],
   "id": "918103ac461c8d2b",
   "outputs": [
    {
     "name": "stderr",
     "output_type": "stream",
     "text": [
      "Some weights of BertForSequenceClassification were not initialized from the model checkpoint at ./model/rbt3 and are newly initialized: ['classifier.bias', 'classifier.weight']\n",
      "You should probably TRAIN this model on a down-stream task to be able to use it for predictions and inference.\n"
     ]
    }
   ],
   "execution_count": 16
  },
  {
   "metadata": {
    "ExecuteTime": {
     "end_time": "2025-07-04T06:19:24.744945Z",
     "start_time": "2025-07-04T06:19:24.739292Z"
    }
   },
   "cell_type": "code",
   "source": "optimizer = Adam(model.parameters(), lr=2e-5)",
   "id": "9a5f33e251e312f",
   "outputs": [],
   "execution_count": 17
  },
  {
   "metadata": {},
   "cell_type": "markdown",
   "source": "# 训练",
   "id": "3be07af2c81e7044"
  },
  {
   "metadata": {
    "ExecuteTime": {
     "end_time": "2025-07-04T06:19:31.977712Z",
     "start_time": "2025-07-04T06:19:31.965540Z"
    }
   },
   "cell_type": "code",
   "source": [
    "# 验证率准确率\n",
    "def evaluate():\n",
    "    model.eval()\n",
    "    acc_num = 0\n",
    "    with torch.no_grad():\n",
    "        for bath in valid_loader:\n",
    "            if torch.cuda.is_available():\n",
    "                batch = {k:v.cuda() for k,v in bath.items()}\n",
    "            output = model(**batch)\n",
    "            pred = output.logits.argmax(dim=1)\n",
    "            acc_num += (pred.long() == batch[\"labels\"].long()).float().sum()\n",
    "    return acc_num / len(valid_set)\n",
    "\n",
    "# 训练\n",
    "def train(epoch=3, log_step=100):\n",
    "    global_step = 0\n",
    "    for ep in range(epoch):\n",
    "        model.train()\n",
    "        for batch in train_loader:\n",
    "            if torch.cuda.is_available():\n",
    "                batch = {k:v.cuda() for k,v in batch.items()}\n",
    "                \n",
    "            optimizer.zero_grad()\n",
    "            output = model(**batch)\n",
    "            output.loss.backward()\n",
    "            optimizer.step()\n",
    "            if global_step % log_step == 0:\n",
    "                print(f\"ep:{ep}, global_step:{global_step}, loss:{output.loss.item()}\")\n",
    "            global_step += 1\n",
    "                \n",
    "        acc = evaluate()\n",
    "        print(f\"ep:{ep}, acc:{acc}\")\n",
    "        "
   ],
   "id": "6fe7fbda6080faad",
   "outputs": [],
   "execution_count": 19
  },
  {
   "metadata": {
    "ExecuteTime": {
     "end_time": "2025-07-04T06:20:33.698091Z",
     "start_time": "2025-07-04T06:19:33.732788Z"
    }
   },
   "cell_type": "code",
   "source": "train()",
   "id": "e04dfb8a14a34498",
   "outputs": [
    {
     "name": "stdout",
     "output_type": "stream",
     "text": [
      "ep:0, global_step:0, loss:0.7595826387405396\n",
      "ep:0, global_step:100, loss:0.32574647665023804\n",
      "ep:0, global_step:200, loss:0.24471163749694824\n",
      "ep:0, acc:0.876288652420044\n",
      "ep:1, global_step:300, loss:0.22833997011184692\n",
      "ep:1, global_step:400, loss:0.15852518379688263\n",
      "ep:1, acc:0.8917525410652161\n",
      "ep:2, global_step:500, loss:0.11434641480445862\n",
      "ep:2, global_step:600, loss:0.06591776758432388\n",
      "ep:2, acc:0.894329845905304\n"
     ]
    }
   ],
   "execution_count": 20
  },
  {
   "metadata": {},
   "cell_type": "markdown",
   "source": "# step 模型预测",
   "id": "24766e695a0493ab"
  },
  {
   "metadata": {
    "ExecuteTime": {
     "end_time": "2025-07-04T06:21:16.818788Z",
     "start_time": "2025-07-04T06:21:16.716507Z"
    }
   },
   "cell_type": "code",
   "source": [
    "sen = \"我觉得这家酒店很好，点赞\"\n",
    "model.eval()\n",
    "with torch.inference_mode():\n",
    "    inputs = tokenizer(sen, return_tensors=\"pt\")\n",
    "    inputs = {k:v.cuda() for k, v in inputs.items()}\n",
    "    logits = model(**inputs).logits\n",
    "    pred = torch.argmax(logits, dim=-1)\n",
    "    print(f\"输入:{sen}\\n模型预测结果:{pred}\")"
   ],
   "id": "3fb5b8d1958c56f",
   "outputs": [
    {
     "name": "stdout",
     "output_type": "stream",
     "text": [
      "输入:我觉得这家酒店很好，点赞\n",
      "模型预测结果:tensor([1], device='cuda:0')\n"
     ]
    }
   ],
   "execution_count": 23
  }
 ],
 "metadata": {
  "kernelspec": {
   "display_name": "Python 3",
   "language": "python",
   "name": "python3"
  },
  "language_info": {
   "codemirror_mode": {
    "name": "ipython",
    "version": 2
   },
   "file_extension": ".py",
   "mimetype": "text/x-python",
   "name": "python",
   "nbconvert_exporter": "python",
   "pygments_lexer": "ipython2",
   "version": "2.7.6"
  }
 },
 "nbformat": 4,
 "nbformat_minor": 5
}
